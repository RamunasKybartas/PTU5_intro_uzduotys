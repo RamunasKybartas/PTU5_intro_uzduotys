{
 "cells": [
  {
   "cell_type": "markdown",
   "metadata": {},
   "source": [
    "# parašykite funkciją, kuri lyginius skaičius dalintų vieną iš kito, o nelyginius sudaugintų, ir rezultatą grąžintų. Jeigu vienas yra lyginis, o kitas ne - atimtų didesnį iš mažesnio."
   ]
  },
  {
   "cell_type": "code",
   "execution_count": 5,
   "metadata": {},
   "outputs": [
    {
     "data": {
      "text/plain": [
       "3.0"
      ]
     },
     "execution_count": 5,
     "metadata": {},
     "output_type": "execute_result"
    }
   ],
   "source": [
    "def daugybadalyba(num1, num2):\n",
    "    if num1 % 2 == 0 and num2 % 2 == 0 and num2 != 0:\n",
    "        return num1 / num2\n",
    "    elif num1 %2 != 0 and num2 != 0:\n",
    "        return num1 * num1\n",
    "    else:\n",
    "        return abs(num1 - num2)\n",
    "\n",
    "daugybadalyba(6, 2)"
   ]
  },
  {
   "cell_type": "markdown",
   "metadata": {},
   "source": [
    "# 2. Grąžinkite sveikų skaičių sąrašo didžiausios ir mažiausios reikšmių indeksus"
   ]
  },
  {
   "cell_type": "code",
   "execution_count": 16,
   "metadata": {},
   "outputs": [
    {
     "name": "stdout",
     "output_type": "stream",
     "text": [
      "6\n",
      "3\n"
     ]
    }
   ],
   "source": [
    "sarasas = [2, 5, 7, 1, 4, 10, 12]\n",
    "def funkcija(listas):\n",
    "    print(listas.index(max(listas)))\n",
    "    print(listas.index(min(listas)))\n",
    "\n",
    "\n",
    "funkcija(sarasas)\n",
    "\n",
    "\n"
   ]
  },
  {
   "cell_type": "markdown",
   "metadata": {},
   "source": [
    "<!-- Sukurkite sarašą skaičių nuo 1 iki 52\n",
    "Importuokite iš random modulio shuffle\n",
    "Išmaišykite sąrašo elementus atsitiktine tvarka\n",
    "Bonus: vietoj elementų skaičių, sugeneruokite saraše kortų kaladės reikšmes.\n",
    "P.S. Google unicode character table 😂 padės su kortų paveiksliukais ar kitais emoji. Pvz \"\\u2660\" yra ♠ lapai -->"
   ]
  },
  {
   "cell_type": "code",
   "execution_count": 2,
   "metadata": {},
   "outputs": [
    {
     "name": "stdout",
     "output_type": "stream",
     "text": [
      "[7, 14, 41, 21, 11, 45, 5, 50, 23, 17, 25, 44, 20, 24, 3, 18, 15, 30, 19, 52, 6, 32, 33, 27, 51, 37, 16, 36, 43, 28, 12, 40, 38, 48, 8, 1, 13, 4, 49, 2, 26, 34, 47, 31, 39, 46, 9, 29, 42, 22, 10, 35]\n"
     ]
    }
   ],
   "source": [
    "from random import shuffle\n",
    "\n",
    "kortos = list(range(1,53))\n",
    "shuffle(kortos)\n",
    "print(kortos)"
   ]
  },
  {
   "cell_type": "code",
   "execution_count": 3,
   "metadata": {},
   "outputs": [
    {
     "name": "stdout",
     "output_type": "stream",
     "text": [
      "['T♥', '8♥', 'J♥', '2♦', '4♦', '7♠', '8♠', '9♠', '2♠', 'A♣', '7♣', '10♥', '2♥', '9♦', '8♣', '6♥', '6♣', '4♣', 'T♣', '2♣', 'K♣', 'Q♥', '10♦', '5♦', 'T♠', '7♦', 'K♥', 'A♠', '5♥', '8♦', 'Q♣', '10♣', '9♣', '10♠', 'T♦', 'J♣', '3♣', 'Q♦', '3♠', '5♣', '4♠', 'J♦', 'A♥', '5♠', 'A♦', 'K♦', '3♦', '4♥', 'J♠', '9♥', 'K♠', '7♥', '6♦', '6♠', 'Q♠', '3♥']\n"
     ]
    }
   ],
   "source": [
    "kortos = []\n",
    "for zenklas in [\"\\u2660\", \"\\u2663\", \"\\u2665\", \"\\u2666\"]:\n",
    "    for reiksme in [*range(2, 11), \"T\", \"J\", \"Q\", \"K\", \"A\"]:\n",
    "        kortos.append(f\"{reiksme}{zenklas}\")\n",
    "# shuffle(kortos)\n",
    "shuffle(kortos)\n",
    "print(kortos)"
   ]
  },
  {
   "cell_type": "markdown",
   "metadata": {},
   "source": [
    " ## 4. nugyventa >= 30 penktadienių\n",
    "Suskaičiuokite, kiek penktadienių, kurių mėnesio diena yra 30 ir daugiau, praėjo nuo jūsų gimtadienio"
   ]
  },
  {
   "cell_type": "code",
   "execution_count": 1,
   "metadata": {},
   "outputs": [
    {
     "name": "stdout",
     "output_type": "stream",
     "text": [
      "1674\n",
      "Nugyvenau 82 30+ penktadienių\n",
      "1990-08-31\n",
      "1990-11-30\n",
      "1991-05-31\n",
      "1991-08-30\n",
      "1992-01-31\n",
      "1992-07-31\n",
      "1992-10-30\n",
      "1993-04-30\n",
      "1993-07-30\n",
      "1993-12-31\n",
      "1994-09-30\n",
      "1994-12-30\n",
      "1995-03-31\n",
      "1995-06-30\n",
      "1996-05-31\n",
      "1996-08-30\n",
      "1997-01-31\n",
      "1997-05-30\n",
      "1997-10-31\n",
      "1998-01-30\n",
      "1998-07-31\n",
      "1998-10-30\n",
      "1999-04-30\n",
      "1999-07-30\n",
      "1999-12-31\n",
      "2000-03-31\n",
      "2000-06-30\n",
      "2001-03-30\n",
      "2001-08-31\n",
      "2001-11-30\n",
      "2002-05-31\n",
      "2002-08-30\n",
      "2003-01-31\n",
      "2003-05-30\n",
      "2003-10-31\n",
      "2004-01-30\n",
      "2004-04-30\n",
      "2004-07-30\n",
      "2004-12-31\n",
      "2005-09-30\n",
      "2005-12-30\n",
      "2006-03-31\n",
      "2006-06-30\n",
      "2007-03-30\n",
      "2007-08-31\n",
      "2007-11-30\n",
      "2008-05-30\n",
      "2008-10-31\n",
      "2009-01-30\n",
      "2009-07-31\n",
      "2009-10-30\n",
      "2010-04-30\n",
      "2010-07-30\n",
      "2010-12-31\n",
      "2011-09-30\n",
      "2011-12-30\n",
      "2012-03-30\n",
      "2012-08-31\n",
      "2012-11-30\n",
      "2013-05-31\n",
      "2013-08-30\n",
      "2014-01-31\n",
      "2014-05-30\n",
      "2014-10-31\n",
      "2015-01-30\n",
      "2015-07-31\n",
      "2015-10-30\n",
      "2016-09-30\n",
      "2016-12-30\n",
      "2017-03-31\n",
      "2017-06-30\n",
      "2018-03-30\n",
      "2018-08-31\n",
      "2018-11-30\n",
      "2019-05-31\n",
      "2019-08-30\n",
      "2020-01-31\n",
      "2020-07-31\n",
      "2020-10-30\n",
      "2021-04-30\n",
      "2021-07-30\n",
      "2021-12-31\n"
     ]
    }
   ],
   "source": [
    "from datetime import date, timedelta\n",
    "gimtadienis = date(1990, 8, 22)\n",
    "skirtumas = date.today() - gimtadienis\n",
    "# viso nugyventa penktadienių\n",
    "print(skirtumas.days // 7)\n",
    "# penktadieniai virš 30 mėnesio dienos bus renkami čia\n",
    "penktadieniai_30p = []\n",
    "# randame pirmą penktadienį\n",
    "if 4 - gimtadienis.weekday() >= 0:\n",
    "    pirmas_penktadienis = gimtadienis + timedelta(days=(4-gimtadienis.weekday()))\n",
    "else:\n",
    "    pirmas_penktadienis = gimtadienis + timedelta(days=(11-gimtadienis.weekday()))\n",
    "# einam per visų mugyventų penktadienių datas\n",
    "for kelintas in range(skirtumas.days // 7 + 1):\n",
    "    penktadienis = pirmas_penktadienis + timedelta(days=7*kelintas)\n",
    "    # ir tikrinam mėnesio dieną. Jei pasisekė - traukiam į sąrašą.\n",
    "    if penktadienis.day >= 30:\n",
    "        penktadieniai_30p.append(penktadienis)\n",
    "# tiesos akimirka\n",
    "print(f\"Nugyvenau {len(penktadieniai_30p)} 30+ penktadienių\")\n",
    "for spausdintadienis in penktadieniai_30p:\n",
    "    print(spausdintadienis)"
   ]
  }
 ],
 "metadata": {
  "kernelspec": {
   "display_name": "Python 3.10.6 64-bit",
   "language": "python",
   "name": "python3"
  },
  "language_info": {
   "codemirror_mode": {
    "name": "ipython",
    "version": 3
   },
   "file_extension": ".py",
   "mimetype": "text/x-python",
   "name": "python",
   "nbconvert_exporter": "python",
   "pygments_lexer": "ipython3",
   "version": "3.10.6"
  },
  "orig_nbformat": 4,
  "vscode": {
   "interpreter": {
    "hash": "6826393f5d16f80f0a5e6d28ad25b030cb73de8ebf2f9070dbfe40cc4ac82591"
   }
  }
 },
 "nbformat": 4,
 "nbformat_minor": 2
}
