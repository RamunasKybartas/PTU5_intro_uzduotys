{
 "cells": [
  {
   "cell_type": "markdown",
   "metadata": {},
   "source": [
    "# parašykite funkciją, kuri lyginius skaičius dalintų vieną iš kito, o nelyginius sudaugintų, ir rezultatą grąžintų. Jeigu vienas yra lyginis, o kitas ne - atimtų didesnį iš mažesnio."
   ]
  },
  {
   "cell_type": "code",
   "execution_count": 5,
   "metadata": {},
   "outputs": [
    {
     "data": {
      "text/plain": [
       "3.0"
      ]
     },
     "execution_count": 5,
     "metadata": {},
     "output_type": "execute_result"
    }
   ],
   "source": [
    "def daugybadalyba(num1, num2):\n",
    "    if num1 % 2 == 0 and num2 % 2 == 0 and num2 != 0:\n",
    "        return num1 / num2\n",
    "    elif num1 %2 != 0 and num2 != 0:\n",
    "        return num1 * num1\n",
    "    else:\n",
    "        return abs(num1 - num2)\n",
    "\n",
    "daugybadalyba(6, 2)"
   ]
  },
  {
   "cell_type": "markdown",
   "metadata": {},
   "source": [
    "# 2. Grąžinkite sveikų skaičių sąrašo didžiausios ir mažiausios reikšmių indeksus"
   ]
  },
  {
   "cell_type": "code",
   "execution_count": 16,
   "metadata": {},
   "outputs": [
    {
     "name": "stdout",
     "output_type": "stream",
     "text": [
      "6\n",
      "3\n"
     ]
    }
   ],
   "source": [
    "sarasas = [2, 5, 7, 1, 4, 10, 12]\n",
    "def funkcija(listas):\n",
    "    print(listas.index(max(listas)))\n",
    "    print(listas.index(min(listas)))\n",
    "\n",
    "\n",
    "funkcija(sarasas)\n",
    "\n",
    "\n"
   ]
  },
  {
   "cell_type": "markdown",
   "metadata": {},
   "source": [
    "<!-- Sukurkite sarašą skaičių nuo 1 iki 52\n",
    "Importuokite iš random modulio shuffle\n",
    "Išmaišykite sąrašo elementus atsitiktine tvarka\n",
    "Bonus: vietoj elementų skaičių, sugeneruokite saraše kortų kaladės reikšmes.\n",
    "P.S. Google unicode character table 😂 padės su kortų paveiksliukais ar kitais emoji. Pvz \"\\u2660\" yra ♠ lapai -->"
   ]
  },
  {
   "cell_type": "code",
   "execution_count": 22,
   "metadata": {},
   "outputs": [
    {
     "name": "stdout",
     "output_type": "stream",
     "text": [
      "[38, 21, 31, 47, 30, 33, 45, 37, 10, 12, 14, 22, 13, 32, 42, 11, 46, 49, 6, 4, 19, 18, 50, 9, 36, 48, 5, 25, 34, 44, 26, 1, 24, 39, 27, 23, 51, 35, 7, 3, 20, 8, 16, 28, 41, 17, 15, 2, 29, 52, 40, 43]\n"
     ]
    }
   ],
   "source": [
    "from random import shuffle\n",
    "\n",
    "kortos = list(range(1,53))\n",
    "shuffle(kortos)\n",
    "print(kortos)"
   ]
  },
  {
   "cell_type": "code",
   "execution_count": 24,
   "metadata": {},
   "outputs": [
    {
     "name": "stdout",
     "output_type": "stream",
     "text": [
      "['7♠', 'A♦', '2♦', 'J♥', '5♦', '4♠', 'T♠', 'Q♠', '9♥', 'K♠', '4♣', '9♦', 'Q♥', '7♣', '8♠', '5♠', 'A♠', '3♠', 'A♣', 'J♠', 'Q♣', 'T♥', '2♥', '7♦', 'A♥', '7♥', '6♣', '3♥', 'K♥', '5♥', 'J♦', 'T♣', '5♣', '6♦', '3♣', '8♦', 'J♣', '8♣', '2♠', '2♣', '8♥', 'K♣', '6♠', '6♥', '3♦', '9♠', '4♥', '4♦', 'K♦', '9♣', 'Q♦', 'T♦']\n"
     ]
    }
   ],
   "source": [
    "kortos = []\n",
    "for zenklas in [\"\\u2660\", \"\\u2663\", \"\\u2665\", \"\\u2666\"]:\n",
    "    for reiksme in [*range(2, 10), \"T\", \"J\", \"Q\", \"K\", \"A\"]:\n",
    "        kortos.append(f\"{reiksme}{zenklas}\")\n",
    "# shuffle(kortos)\n",
    "shuffle(kortos)\n",
    "print(kortos)"
   ]
  }
 ],
 "metadata": {
  "kernelspec": {
   "display_name": "Python 3.10.6 64-bit",
   "language": "python",
   "name": "python3"
  },
  "language_info": {
   "codemirror_mode": {
    "name": "ipython",
    "version": 3
   },
   "file_extension": ".py",
   "mimetype": "text/x-python",
   "name": "python",
   "nbconvert_exporter": "python",
   "pygments_lexer": "ipython3",
   "version": "3.10.6"
  },
  "orig_nbformat": 4,
  "vscode": {
   "interpreter": {
    "hash": "6826393f5d16f80f0a5e6d28ad25b030cb73de8ebf2f9070dbfe40cc4ac82591"
   }
  }
 },
 "nbformat": 4,
 "nbformat_minor": 2
}
