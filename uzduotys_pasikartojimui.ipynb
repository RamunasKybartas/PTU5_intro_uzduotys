{
 "cells": [
  {
   "cell_type": "code",
   "execution_count": 1,
   "metadata": {},
   "outputs": [
    {
     "name": "stdout",
     "output_type": "stream",
     "text": [
      "<class 'float'>\n",
      "<class 'int'>\n",
      "<class 'str'>\n",
      "<class 'list'>\n"
     ]
    }
   ],
   "source": [
    "# 1 užduotis\n",
    "# Išvesti kintamojo tipą. Duoti kintamieji:\n",
    "a = 3.0\n",
    "b = 4\n",
    "c = \"Python\"\n",
    "d = ['o', 3.0]\n",
    "print(type(a))\n",
    "print(type(b))\n",
    "print(type(c))\n",
    "print(type(d))\n"
   ]
  },
  {
   "cell_type": "code",
   "execution_count": 3,
   "metadata": {},
   "outputs": [
    {
     "name": "stdout",
     "output_type": "stream",
     "text": [
      "22.0\n",
      "12.0\n",
      "85.0\n",
      "3.0\n",
      "5.0\n",
      "2.0\n"
     ]
    }
   ],
   "source": [
    "# 2 užduotis\n",
    "# Atlikti veiksmus su skaičiais.\n",
    "x = 5.0 \n",
    "y = 17.0 \n",
    "# Atlikite šiuos veiksmus: \n",
    "# sudėtį, atimtį, daugybą, dalybą, \n",
    "# raskite liekaną, dalinant y iš x, liekaną dalinant x iš y.\n",
    "print(x+y)\n",
    "print(y-x)\n",
    "print(x*y)\n",
    "print(y//x)\n",
    "print(x%y)\n",
    "print(y%x)"
   ]
  },
  {
   "cell_type": "code",
   "execution_count": null,
   "metadata": {},
   "outputs": [],
   "source": [
    "# 3 užduotis\n",
    "# Parašyti programą, kuri nurodytų, ar vartotojo įvestas skaičius yra lyginis,\n",
    "# ar nelyginis\n",
    "# Hint’as - operatorius %, funkcijos input(), float(). Naudoti if sakinį."
   ]
  },
  {
   "cell_type": "code",
   "execution_count": null,
   "metadata": {},
   "outputs": [],
   "source": [
    "# 4 užduotis\n",
    "# Paklausti vartotojo skaičių a, b, c ir d.\n",
    "# Suraskite šių skaičių sumą bei aritmetinį vidurkį."
   ]
  },
  {
   "cell_type": "code",
   "execution_count": null,
   "metadata": {},
   "outputs": [],
   "source": [
    "# 5 užduotis\n",
    "# Išvesti vartotojo įvestą tekstą.\n",
    "# Išvesti šį tekstą didžiosiomis, mažosiomis raidėmis. \n",
    "# Išspausdinti, kiek tekste yra raidžių.\n",
    "# Suskaičiuoti, kiek tekste yra žodžių."
   ]
  },
  {
   "cell_type": "code",
   "execution_count": null,
   "metadata": {},
   "outputs": [],
   "source": [
    "# 6 užduotis\n",
    "# Parašyti FizzBuzz programą - patikrinti įvestą vartotojo skaičių, \n",
    "# ar jis yra dalus iš 3-jų, 5-kių ar abiejų.\n",
    "# • Jei įvestas skaičius dalus iš 3 - spausdinti Fizz;\n",
    "# • Jei įvestas skaičius dalus iš 5 - spausdinti Buzz;\n",
    "# • Jei įvestas skaičius dalus iš 3 ir 5 - spausdinti FizzBuzz.\n",
    "# • Jei nesidalina iš nurodytų skaičių - spausdinti įvestą skaičių."
   ]
  },
  {
   "cell_type": "code",
   "execution_count": null,
   "metadata": {},
   "outputs": [],
   "source": [
    "# 7 užduotis\n",
    "# Duotas tekstas:\n",
    "# \"Vilnius – kaimas Kupiškio rajono savivaldybėje, 10 km nuo Palėvenėlės.\"\n",
    "# Užduotis:\n",
    "# Išvesti pirmą, paskutinį žodžius. \n",
    "# Išvesti penktojo žodžio paskutinius 5-kis simbolius. \n",
    "# Išvesti tekstą didžiosiomis, mažosiomis raidėmis. \n",
    "# Išveskite kas antrą žodį."
   ]
  },
  {
   "cell_type": "code",
   "execution_count": null,
   "metadata": {},
   "outputs": [],
   "source": [
    "# 8 užduotis\n",
    "# Duotas tekstas:\n",
    "# 'Sėkmė yra 80 proc. darbo ir 20 proc. atsitiktinumo'\n",
    "# Naudojantis slice operacija, išvesti:\n",
    "# a) pirmus 10 simbolių;\n",
    "# b) paskutinius 10 simbolių;\n",
    "# c) simbolius nuo 5 iki 25-to.\n",
    "# Gautuosius simbolius paversti į didžiasiąs raides.\n",
    "# Parašyti komandą, kuri suskaičiuotų, kiek šiame tekste yra simbolių.\n",
    "# Parašyti komandą, kuri suskaičiuotų, kiek šiame tekste yra žodžių.\n",
    "# Parašykite ciklą, kuris išvestų duotojo teksto raides (po vieną).\n",
    "# Parašykite ciklą, kuris išvestų šio teksto žodžius (po vieną)."
   ]
  },
  {
   "cell_type": "code",
   "execution_count": null,
   "metadata": {},
   "outputs": [],
   "source": [
    "# 9 užduotis\n",
    "# Turite tuščią sąrašą \"sarasas\".\n",
    "# Įrašykite į šį sąrašą šiuos skaičius: 1, 2, 3, 4.\n",
    "# Suskaičiuokite, kiek yra elementų šiame sąraše.\n",
    "# Išspausdinkite 2-jį elementą.\n",
    "# Išveskite kiekvieną elementą į ekraną (print statement’as)"
   ]
  },
  {
   "cell_type": "code",
   "execution_count": null,
   "metadata": {},
   "outputs": [],
   "source": [
    "# 10 užduotis\n",
    "# Duoti sąrašai: \n",
    "# a = [1,2,3,4,5,6,7,8,9,10]\n",
    "# b = [1,3,5,7,9,11,13,15,17,19]\n",
    "# Naudojant ciklą, parašyti kodą, kuris apskaičiuotų ir išspausdintų nurodytus sąrašus: \n",
    "# 𝑐 = 𝑎/b\n",
    "# 𝑑 = 𝑎*𝑏\n",
    "# 𝑒 = 𝑎**2"
   ]
  },
  {
   "cell_type": "code",
   "execution_count": null,
   "metadata": {},
   "outputs": [],
   "source": [
    "# 11 užduotis\n",
    "# Parašyti kodą, kuris sudaugintų šiuos sąrašus\n",
    "# x = [1,2,3,4,5,6,7,8,9,10] \n",
    "# y = [2,1,4,7,11,13,15,17,19,21] \n",
    "# a) Iš skaičiaus, kurį įveda vartotojas\n",
    "# b) Vieną su kitu (gauti sąrašą 𝑐, kuris lygus 𝑥 elementus padauginant iš atitinkamų 𝑦 elementų).\n",
    "# c) Padalinkite x sąrašą iš y.\n",
    "# Naudoti ciklus"
   ]
  },
  {
   "cell_type": "code",
   "execution_count": null,
   "metadata": {},
   "outputs": [],
   "source": [
    "# 12 užduotis\n",
    "# Sąrašas: x = [1,2,3,4,5,7,8,9,11,17,19,21,22,40,42]\n",
    "# Parašyti programą, kuri suskaičiuotų: \n",
    "# kiek yra lyginių ir nelyginių skaičių sąraše.\n",
    "# lyginių skaičių vidurkį\n",
    "# nelyginių skaičių vidurkį"
   ]
  },
  {
   "cell_type": "code",
   "execution_count": null,
   "metadata": {},
   "outputs": [],
   "source": [
    "# 13 užduotis\n",
    "# Parašykite ciklą, panaudodami range()funkciją.\n",
    "# a) ciklas turi išvesti skaičius nuo 15 iki 27, kas vieną.\n",
    "# b) pakeiskite ciklą, kad būtų išvedama nuo 0 iki 10 skaičiai, kas du.\n",
    "# c) pakeiskite ciklą, kad būtų išvedami skaičiai, padauginti patys iš savęs (ribos 0-10)"
   ]
  },
  {
   "cell_type": "code",
   "execution_count": null,
   "metadata": {},
   "outputs": [],
   "source": [
    "# 14 užduotis\n",
    "# a) Parašyti kodą, kuris sugeneruotų sąrašą a, \n",
    "# kuriame būtų skaičiai nuo 0 iki 15, kas 1-ną.\n",
    "# b) Patobulinti kodą taip, kad vartotojas įvestų, kiek elementų turi būti sąraše (sąrašo ilgį), \n",
    "# bei žingsnį - kas kiek turi didėti skaičiai sąraše."
   ]
  },
  {
   "cell_type": "code",
   "execution_count": null,
   "metadata": {},
   "outputs": [],
   "source": [
    "# 15 užduotis\n",
    "# a) Atsitiktinai sugeneruoti 10 elementų ilgio sąrašą.\n",
    "# Suskaičiuoti visų sąrašo elementų vidurkį.\n",
    "# b) Atsitiktinai sugeneruoti sąrašą, kai vartotojas įveda sąrašo ilgį nurodantį skaičių. \n",
    "# Pvz, įvestas 10, vadinasi, sąraše turi būti 10 elementų.\n",
    "# Naudoti funkciją random.randint() (import random)"
   ]
  },
  {
   "cell_type": "code",
   "execution_count": null,
   "metadata": {},
   "outputs": [],
   "source": [
    "# 16 užduotis\n",
    "# Parašyti programą, kuri vienoje vartotojo ivestyje paklausia vardo bei pavardės, \n",
    "# atspausdina ivestą vardą ir pavardę sukeistus vietomis (\"Pavardenis Vardenis\")"
   ]
  },
  {
   "cell_type": "code",
   "execution_count": null,
   "metadata": {},
   "outputs": [],
   "source": [
    "# 17 užduotis\n",
    "# Parašyti programą, kurioje leisti vartotojui įvesti žodį. \n",
    "# Patikrinti, ar vartotojo įvestas žodis yra tekste\n",
    "# \"Python – interpretuojama, interaktyvi programavimo kalba, \n",
    "# sukurta Guido van Rossumo 1990 m.\""
   ]
  },
  {
   "cell_type": "code",
   "execution_count": null,
   "metadata": {},
   "outputs": [],
   "source": [
    "# 18 užduotis\n",
    "# Patikrinti, ar vartotojo įvestas skaičius yra didesnis už 10, bet mažesnis už 20. \n",
    "# Nepamirškite, jog vartotojas gali įvesti bet kokį norimą skaičių, \n",
    "# todėl reikia patikrinti visas galimas situacijas\n",
    "# Pavyzdžiui, įvedus skaičių 15, programa turi\n",
    "# spausdinti: \"15 yra daugiau už 10, mažiau už 20\"\n",
    "# Pavyzdžiui, įvedus skaičių 2, programa turi\n",
    "# spausdinti: \"2 yra mažiau už 10\" ir t.t."
   ]
  },
  {
   "cell_type": "code",
   "execution_count": null,
   "metadata": {},
   "outputs": [],
   "source": [
    "# 19 užduotis\n",
    "# tekstas = \"Labas, pasauli\"\n",
    "# Parašyti programą, kuri spausdinant simbolį iš teksto, spausdintų ir simbolio poziciją tekste"
   ]
  },
  {
   "cell_type": "code",
   "execution_count": null,
   "metadata": {},
   "outputs": [],
   "source": [
    "# 20 užduotis\n",
    "# zodynas = {'go':['eiti', 'vykti', 'važiuoti','veikti'], \n",
    "# 'keep':['išlaikyti', 'laikyti', 'išsaugoti', 'sulaikyti', 'vesti'], \n",
    "# 'run':['paleisti', 'veikti', 'važiuoti', 'bėgti', 'judėti', 'lakstyti']}\n",
    "# Parašyti programą, kuri \n",
    "# a) grąžintų visus žodyne esancius raktažodžius;\n",
    "# a) grąžintų visas žodyne esancias reikšmes;\n"
   ]
  },
  {
   "cell_type": "code",
   "execution_count": null,
   "metadata": {},
   "outputs": [],
   "source": [
    "# 21 užduotis\n",
    "# tekstas = \"Funkcijose esantys kintamieji yra vadinami specialiu pavadinimu - lokalūs kintamieji.\"\n",
    "# a) Atspausdinkite tekstą su kas antra didžiąja raide.\n",
    "# b) Atspausdinkite tekstą su kas 𝑛-taja didžiąja raide. 𝑛 įveda\n",
    "# vartotojas.\n",
    "# c) Atspausdinkite tekstą su kas 𝑛-tuoju žodžiu, parašytu\n",
    "# didžiosiomis raidėmis. 𝑛 įveda vartotojas.\n",
    "# d) Atspausdinkite tekstą, kurio kiekvienas žodis prasidėtų\n",
    "# didžiąja raide."
   ]
  },
  {
   "cell_type": "code",
   "execution_count": null,
   "metadata": {},
   "outputs": [],
   "source": [
    "# 22 užduotis\n",
    "# Parašyti funkciją, kuri priima sąrašą ir grąžina naują sąrašą su\n",
    "# paskutiniu ir pirmu elementais iš pirmojo sąrašo. \n",
    "# PVZ: [1,2,3,4,5,6,7,8,9] ats: [1,9]"
   ]
  },
  {
   "cell_type": "code",
   "execution_count": null,
   "metadata": {},
   "outputs": [],
   "source": [
    "# 23 užduotis\n",
    "# Parašyti funkciją, kuri priima tekstą ir grąžina atgal tekstą su\n",
    "# apkeistom pirma ir paskutine raidėmis. PVZ: Python nythoP."
   ]
  },
  {
   "cell_type": "code",
   "execution_count": null,
   "metadata": {},
   "outputs": [],
   "source": [
    "# 24 užduotis\n",
    "# duotas_sąrašas = ['labas', 'rytas', 'šiandien', 'yra', 'graži',\n",
    "# 'diena', 'ir', 'ar', 'pas', 'jus', 'lyja']\n",
    "# a ) Parašykite programą, kuri atspausdintų tik tuos žodžius, \n",
    "# kurie yra trumpesni nei 4-ri simboliai ir savyje turi ’a’ simbolį.\n",
    "# b) Pakeiskite kodą taip, kad ir ilgį, ir ieškomą simbolį įvestų vartotojas su input() funkcija."
   ]
  },
  {
   "cell_type": "code",
   "execution_count": null,
   "metadata": {},
   "outputs": [],
   "source": [
    "# 25 užduotis\n",
    "# Duotas tekstas: \"Tu jau žinai įprastus kintamuosius, kuriuose saugoma viena reikšmė. Tačiau kiti kintamųjų tipai gali turėti daugiau nei vieną reikšmę. Jie vadinami konteineriais (containers), nes juose gali būti daugiau nei vienas objektas. Paprasčiausias tipas vadinamas sąrašu (list).\"\n",
    "# Duotajame tekste panaikinti žodžius. Vartotojas įveda skaičių, rodantį, kas kelintą žodį reikia ištrinti.\n",
    "# Atspausdinkite modifikuotą tekstą."
   ]
  },
  {
   "cell_type": "code",
   "execution_count": null,
   "metadata": {},
   "outputs": [],
   "source": [
    "# 26 užduotis\n",
    "# Duotas sudėtinis sąrašas\n",
    "# ivairus = [{'Vilnius':1323,'Kaunas':1361},{'Saulė':'Žvaigždė','Žemė':'Planeta','Cerera':'Planetoidas'},[{'Betelgeizė':['Raudonoji','milžinė']},{'Panda':'Kung Fu'}]]\n",
    "# Parašyti komandą, kuri išspausdintų:\n",
    "# a) Vilniaus paminėjimo metus (1323)\n",
    "# b) Kauno paminėjimo metus\n",
    "# c) Saulės, Žemės tipą (planeta/žvaigždė)\n",
    "# d) Pirmus 8-nis žodžio ’Planetoidas’ simbolius\n",
    "# e) Pirmus 4-rias žodžio ’milžinė’ raides"
   ]
  },
  {
   "cell_type": "code",
   "execution_count": null,
   "metadata": {},
   "outputs": [],
   "source": [
    "# 27 užduotis\n",
    "# Duotas sąrašas su žodynais:\n",
    "# cl = [{'Modelis':'WV', 'rida':25000},{'Modelis':'Audi', 'rida':36000},{'Modelis':'Ford', 'rida':42000},{'Modelis':'Toyota', 'rida':31000},{'Modelis':'Nissan', 'rida':75000}]\n",
    "# a) Parašykite ciklą, kuris atspausdintų automobilių ridas.\n",
    "# b) Parašykite kodą, surandantį daugiausiai ir mažiausiai nuvažiavusius automobilius."
   ]
  }
 ],
 "metadata": {
  "kernelspec": {
   "display_name": "Python 3.10.6 64-bit",
   "language": "python",
   "name": "python3"
  },
  "language_info": {
   "codemirror_mode": {
    "name": "ipython",
    "version": 3
   },
   "file_extension": ".py",
   "mimetype": "text/x-python",
   "name": "python",
   "nbconvert_exporter": "python",
   "pygments_lexer": "ipython3",
   "version": "3.10.6"
  },
  "orig_nbformat": 4,
  "vscode": {
   "interpreter": {
    "hash": "6826393f5d16f80f0a5e6d28ad25b030cb73de8ebf2f9070dbfe40cc4ac82591"
   }
  }
 },
 "nbformat": 4,
 "nbformat_minor": 2
}
