{
 "cells": [
  {
   "cell_type": "code",
   "execution_count": 2,
   "metadata": {},
   "outputs": [
    {
     "name": "stdout",
     "output_type": "stream",
     "text": [
      "<class 'float'>\n",
      "<class 'int'>\n",
      "<class 'str'>\n",
      "<class 'list'>\n"
     ]
    }
   ],
   "source": [
    "# 1 užduotis\n",
    "a = 3.0 \n",
    "print(type(a))\n",
    "b = 4 \n",
    "print(type(b))\n",
    "c = \"Python\"\n",
    "print(type(c))\n",
    "d = ['o', 3.0]\n",
    "print(type(d))"
   ]
  },
  {
   "cell_type": "code",
   "execution_count": 3,
   "metadata": {},
   "outputs": [
    {
     "name": "stdout",
     "output_type": "stream",
     "text": [
      "22.0\n",
      "-12.0\n",
      "85.0\n",
      "0.29411764705882354\n",
      "5.0\n",
      "2.0\n"
     ]
    }
   ],
   "source": [
    "# 2 užduotis\n",
    "x = 5.0\n",
    "y = 17.0\n",
    "print(x+y)\n",
    "print(x-y)\n",
    "print(x*y)\n",
    "print(x/y)\n",
    "print(x % y)\n",
    "print(y % x)"
   ]
  },
  {
   "cell_type": "code",
   "execution_count": null,
   "metadata": {},
   "outputs": [],
   "source": [
    "# 3 užduotis\n",
    "x = int(input(\"Įveskite sveika skaičių: \"))\n",
    "if x % 2 == 0:\n",
    "    print(x, 'lyginis')\n",
    "else:\n",
    "    print(x, 'nelyginis')"
   ]
  },
  {
   "cell_type": "code",
   "execution_count": null,
   "metadata": {},
   "outputs": [],
   "source": [
    "# 4 užduotis\n",
    "a = float(input(\"Įveskite skaiciu a:\"))\n",
    "b = float(input(\"Įveskite skaiciu b:\"))\n",
    "c = float(input(\"Įveskite skaiciu c:\"))\n",
    "d = float(input(\"Įveskite skaiciu d:\"))\n",
    "suma = a + b + c + d\n",
    "vidurkis = suma/4\n",
    "print(suma, \"suma\", vidurkis, \"aritm. vidurkis\")\n",
    "\n",
    "#kitas variantas:\n",
    "s = [a,b,c,d]\n",
    "suma = sum(s)\n",
    "avg = sum(s)/len(s)\n",
    "print(suma, \"suma\", avg, \"vidurkis\")"
   ]
  },
  {
   "cell_type": "code",
   "execution_count": null,
   "metadata": {},
   "outputs": [],
   "source": [
    "# 5 užduotis\n",
    "txt = input(\"Įveskite kokį nors tekstą: \")\n",
    "print(txt)\n",
    "print(txt.upper())\n",
    "print(txt.lower())\n",
    "print(len(txt), \"- tiek tekste yra simbolių\")\n",
    "print(len(txt.split()), \" - tiek tekste yra žodžių\")"
   ]
  },
  {
   "cell_type": "code",
   "execution_count": null,
   "metadata": {},
   "outputs": [],
   "source": [
    "# 6 užduotis\n",
    "skaicius = int(input('Iveskite sveika skaiciu: '))\n",
    "\n",
    "if skaicius % 3 == 0 and skaicius % 5 == 0:\n",
    "    print('FizzBuzz')\n",
    "elif skaicius % 3 == 0:\n",
    "    print('Fizz')\n",
    "elif skaicius % 5 == 0:\n",
    "    print('Buzz')\n",
    "else:\n",
    "    print(skaicius)"
   ]
  },
  {
   "cell_type": "code",
   "execution_count": null,
   "metadata": {},
   "outputs": [],
   "source": [
    "# 7 užduotis\n",
    "text = \"Vilnius – kaimas Kupiškio rajono savivaldybėje, 10 km nuo Palėvenėlės.\"\n",
    "t = text.split()\n",
    "print(t[0], t[-1])\n",
    "print(t[4][0:5])\n",
    "print(t.upper(), '\\n', t.lower())\n",
    "print(t[::2])"
   ]
  },
  {
   "cell_type": "code",
   "execution_count": null,
   "metadata": {},
   "outputs": [],
   "source": [
    "# 8 užduotis\n",
    "txt = 'Sėkmė yra 80 proc. darbo ir 20 proc. atsitiktinumo'\n",
    "a = txt[0:11]\n",
    "print(len(a.upper()))\n",
    "b = txt[-10:]\n",
    "print(len(b.upper()))\n",
    "c = txt[5:26]\n",
    "print(len(c.upper()))\n",
    "len(txt)\n",
    "len(txt.split())\n",
    "\n",
    "for i in txt:\n",
    "    print(i)\n",
    "\n",
    "for i in txt.split():\n",
    "    print(i)"
   ]
  },
  {
   "cell_type": "code",
   "execution_count": null,
   "metadata": {},
   "outputs": [],
   "source": [
    "# 9 užduotis\n",
    "sarasas = [1, 2, 3, 4]\n",
    "print(len(sarasas))\n",
    "print(sarasas[1])\n",
    "for skaicius in sarasas:\n",
    "    print(sarasas)"
   ]
  },
  {
   "cell_type": "code",
   "execution_count": null,
   "metadata": {},
   "outputs": [],
   "source": [
    "# 10 užduotis\n",
    "a = [1,2,3,4,5,6,7,8,9,10]\n",
    "b = [1,3,5,7,9,11,13,15,17,19]\n",
    "c = []\n",
    "d = []\n",
    "e = []\n",
    "for i in range(0, len(a)):\n",
    "    c.append(a[i]/b[i])\n",
    "    d.append(a[i]*b[i])\n",
    "    e.append(a[i]**2)\n",
    "print(d, 'a*b')\n",
    "print(c, 'a/b')\n",
    "print(e, 'a**2')"
   ]
  },
  {
   "cell_type": "code",
   "execution_count": null,
   "metadata": {},
   "outputs": [],
   "source": [
    "# 11 užduotis\n",
    "x = [1,2,3,4,5,6,7,8,9,10]\n",
    "y = [2,1,4,7,11,13,15,17,19,21]\n",
    "cx = []\n",
    "cy = []\n",
    "xy = []\n",
    "yx = [] #x/y sąrašas\n",
    "n = float(input('Įveskite skaičių:'))\n",
    "for i in range(0, len(x)):\n",
    "    cx.append(x[i]*n)\n",
    "    cy.append(y[i]*n)\n",
    "    xy.append(x[i]*y[i])\n",
    "    yx.append(x[i]/y[i])\n",
    "print(cx, '\\n', cy, '\\n', xy, '\\n', yx)"
   ]
  },
  {
   "cell_type": "code",
   "execution_count": null,
   "metadata": {},
   "outputs": [],
   "source": [
    "# 12 užduotis\n",
    "x = [1,2,3,4,5,7,8,9,11,17,19,21,22,40,42]\n",
    "\n",
    "lyginiai = []\n",
    "nelyginiai = []\n",
    "\n",
    "for i in range(0,len(x)):\n",
    "    if x[i] % 2 == 0:\n",
    "        lyginiai.append(x[i])\n",
    "    else:\n",
    "        nelyginiai.append(x[i])\n",
    "\n",
    "print(len(lyginiai), ' yra lyginiu skaiciu sarase')\n",
    "print(len(nelyginiai),  ' yra nelyginiu skaiciu sarase')\n",
    "print(sum(lyginiai)/len(lyginiai), ' yra lyginiu skaiciu vidurkis')\n",
    "print(sum(nelyginiai)/len(nelyginiai),  ' yra nelyginiu skaiciu vidurkis')"
   ]
  },
  {
   "cell_type": "code",
   "execution_count": null,
   "metadata": {},
   "outputs": [],
   "source": [
    "# 13 užduotis\n",
    "for a in range(15, 27):\n",
    "    print(a)\n",
    "\n",
    "for b in range(0, 11,2):\n",
    "    print(b)\n",
    "\n",
    "for c in range(0, 11):\n",
    "    print(c**2)"
   ]
  },
  {
   "cell_type": "code",
   "execution_count": null,
   "metadata": {},
   "outputs": [],
   "source": [
    "# 14 užduotis\n",
    "# a)\n",
    "sarasas_a = []\n",
    "for i in range(0,16):\n",
    "    sarasas_a.append(i)\n",
    "print(sarasas_a)\n",
    "# b)\n",
    "ilgis = int(input('Iveskite sveika skaiciu, kuris bus saraso ilgis'))\n",
    "zingsnis = int(input('Iveskite sveika skaiciu, kuris bus zingsnis'))\n",
    "sarasas_b = []\n",
    "for i in range(0, ilgis, zingsnis):\n",
    "    sarasas_b.append(i)\n",
    "print(sarasas_b)"
   ]
  },
  {
   "cell_type": "code",
   "execution_count": null,
   "metadata": {},
   "outputs": [],
   "source": [
    "# 15 užduotis\n",
    "import random\n",
    "# a) \n",
    "sarasas_a = []\n",
    "for i in range(0, 10):\n",
    "    sarasas_a.append(random.randint(0,100))\n",
    "print(sarasas_a)\n",
    "print('Vidurkis', sum(sarasas_a)/len(sarasas_a))\n",
    "\n",
    "# b)\n",
    "n = int(input('Įveskite sąrašo ilgį: '))\n",
    "sarasas_b = []\n",
    "for i in range(0, n):\n",
    "    sarasas_b.append(random.randint(0,100))\n",
    "print(sarasas_b)    \n",
    "print('Vidurkis', sum(sarasas_b)/len(sarasas_b))"
   ]
  },
  {
   "cell_type": "code",
   "execution_count": null,
   "metadata": {},
   "outputs": [],
   "source": [
    "# 16 užduotis\n",
    "name = input('Įrašykite savo vardą ir pavardę')\n",
    "print (name.split()[1], name.split()[0])"
   ]
  },
  {
   "cell_type": "code",
   "execution_count": null,
   "metadata": {},
   "outputs": [],
   "source": [
    "# 17 užduotis\n",
    "zodis = input('Iveskite zodi')\n",
    "fraze = 'Python – interpretuojama, interaktyvi programavimo kalba, sukurta Guido van Rossumo 1990 m.'\n",
    "if zodis in fraze:\n",
    "    print(zodis,' zodis yra tekste: ', fraze)\n",
    "else:\n",
    "    print(zodis,' zodis nera tekste: ', fraze)"
   ]
  },
  {
   "cell_type": "code",
   "execution_count": null,
   "metadata": {},
   "outputs": [],
   "source": [
    "# 18 užduotis\n",
    "skaicius = float(input('Iveskite skaiciu: '))\n",
    "\n",
    "if skaicius > 10 and skaicius < 20:\n",
    "    print(skaicius,' yra daugiau už 10, mažiau už 20')\n",
    "if skaicius < 10:\n",
    "    print(skaicius,' yra mažiau už 10')\n",
    "if skaicius > 20:\n",
    "    print(skaicius,' yra mažiau už 20')\n",
    "if skaicius == 10:\n",
    "    print(skaicius,' lygu 10')\n",
    "if skaicius == 20:\n",
    "    print(skaicius,' lygu 20')"
   ]
  },
  {
   "cell_type": "code",
   "execution_count": null,
   "metadata": {},
   "outputs": [],
   "source": [
    "# 19 užduotis\n",
    "tekstas = \"Labas, pasauli\"\n",
    "pozicija = 0 \n",
    "for simbolis in tekstas:\n",
    "    pozicija += 1\n",
    "    print(simbolis, pozicija) "
   ]
  },
  {
   "cell_type": "code",
   "execution_count": null,
   "metadata": {},
   "outputs": [],
   "source": [
    "# 20 užduotis\n",
    "zodynas = {'go':['eiti', 'vykti', 'važiuoti','veikti'], 'keep':['išlaikyti', 'laikyti', 'išsaugoti', 'sulaikyti', 'vesti'], 'run':['paleisti', 'veikti', 'važiuoti', 'bėgti', 'judėti', 'lakstyti']}\n",
    "# a)\n",
    "for k in zodynas.keys():\n",
    "    print(k)\n",
    "# arba\n",
    "for k in zodynas:\n",
    "    print(k)\n",
    "# b)\n",
    "for v in zodynas.values():\n",
    "    print(v)\n",
    "# arba\n",
    "for k in zodynas.keys():\n",
    "    print(zodynas[k])"
   ]
  },
  {
   "cell_type": "code",
   "execution_count": null,
   "metadata": {},
   "outputs": [],
   "source": [
    "# 21 užduotis\n",
    "tekstas = \"Funkcijose esantys kintamieji yra vadinami specialiu pavadinimu - lokalūs kintamieji.\"\n",
    "# a) \n",
    "txt = ''\n",
    "idx = 0 \n",
    "for i in tekstas: \n",
    "    idx = idx + 1\n",
    "    if idx % 2 == 0:\n",
    "        txt = txt + (i.upper()) \n",
    "    else:\n",
    "        txt = txt + (i.lower()) \n",
    "print(txt)\n",
    "# b) \n",
    "txt = ''\n",
    "skaicius = int(input('Iveskite sveika skaiciu: '))\n",
    "for pozicija in range(0, len(tekstas)): \n",
    "    if pozicija % skaicius == 0:\n",
    "        txt = txt + (tekstas[pozicija].upper()) \n",
    "    else:\n",
    "        txt = txt + (tekstas[pozicija].lower())\n",
    "print(txt)\n",
    "# c)\n",
    "zodziai = tekstas.split()\n",
    "skaicius = int(input('Iveskite sveika skaiciu: '))\n",
    "for numeris in range(0, len(zodziai)):\n",
    "    if numeris % skaicius == 0:\n",
    "        zodziai[numeris] = zodziai[numeris].upper()\n",
    "    else:\n",
    "        zodziai[numeris] = zodziai[numeris].lower()\n",
    "print (' '.join(zodziai))\n",
    "# d)\n",
    "zodziai = tekstas.split()\n",
    "for poz in range(0, len(zodziai)):\n",
    "    zodziai[poz] = zodziai[poz][0].upper() + zodziai[poz][1:] #zodziai[poz][0] - nurodo pirma zodzio raide; zodziai[poz][1:] - likusi zodzio dalis\n",
    "print(' '.join(zodziai)\n",
    "#arba\n",
    "tekstas.title()"
   ]
  },
  {
   "cell_type": "code",
   "execution_count": null,
   "metadata": {},
   "outputs": [],
   "source": [
    "# 22 užduotis\n",
    "tavo_sarasas = [1,2,3,4,5,6,7,8,9]\n",
    "def pirmas_paskutinis(sarasas):\n",
    "    ats = []\n",
    "    ats.append(sarasas[0])\n",
    "    ats.append(sarasas[-1])\n",
    "    return (ats)\n",
    "\n",
    "print(pirmas_paskutinis(tavo_sarasas))"
   ]
  },
  {
   "cell_type": "code",
   "execution_count": null,
   "metadata": {},
   "outputs": [],
   "source": [
    "# 23 užduotis\n",
    "def sukeisk(zodis):\n",
    "    ats = (zodis[-1]+zodis[1:-1]+zodis[0])\n",
    "    return ats\n",
    "\n",
    "print(sukeisk(\"Python\"))"
   ]
  },
  {
   "cell_type": "code",
   "execution_count": null,
   "metadata": {},
   "outputs": [],
   "source": [
    "# 24 užduotis\n",
    "duotas_sarasas = ['labas', 'rytas', 'šiandien', 'yra', 'graži', 'diena', 'ir', 'ar', 'pas', 'jus', 'lyja']\n",
    "# a)\n",
    "for zodis in duotas_sarasas:\n",
    "    if 'a' in zodis and len(zodis) < 4:\n",
    "        print(zodis)\n",
    "# b)\n",
    "kiekis = int(input('Simbolių kiekis?'))\n",
    "raide = input('simbolis?')\n",
    "for zodis in duotas_sarasas:\n",
    "    if raide in zodis and len(zodis) < kiekis:\n",
    "        print(zodis)"
   ]
  },
  {
   "cell_type": "code",
   "execution_count": null,
   "metadata": {},
   "outputs": [],
   "source": [
    "# 25 užduotis\n",
    "tekstas = \"Tu jau žinai įprastus kintamuosius, kuriuose saugoma viena reikšmė. Tačiau kiti kintamųjų tipai gali turėti daugiau nei vieną reikšmę. Jie vadinami konteineriais (containers), nes juose gali būti daugiau nei vienas objektas. Paprasčiausias tipas vadinamas sąrašu (list).\"\n",
    "\n",
    "txt = tekstas.split()\n",
    "skaicius = int(input('Iveskite, kas kelinta zodi istrinti: '))\n",
    "for poz in range(0, len(txt)):\n",
    "    if poz % skaicius == 0:\n",
    "        txt[poz] = txt[poz].replace(txt[poz],'')\n",
    "print (' '.join(txt))"
   ]
  },
  {
   "cell_type": "code",
   "execution_count": null,
   "metadata": {},
   "outputs": [],
   "source": [
    "# 26 užduotis\n",
    "ivairus=[{'Vilnius':1323,'Kaunas':1361},{'Saulė':'Žvaigždė','Žemė':'Planeta','Cerera':'Planetoidas'},[{'Betelgeizė':['Raudonoji','milžinė']},\n",
    "{'Panda':'Kung Fu'}]]\n",
    "print(ivairus[0]['Vilnius'])\n",
    "print(ivairus[0]['Kaunas'])\n",
    "print(ivairus[1]['Saulė'])\n",
    "print(ivairus[1]['Žemė'])\n",
    "print(ivairus[1]['Cerera'][0:8])\n",
    "print(ivairus[-1][0]['Betelgeizė'][-1][0:4])"
   ]
  },
  {
   "cell_type": "code",
   "execution_count": null,
   "metadata": {},
   "outputs": [],
   "source": [
    "# 27 užduotis\n",
    "cl = [{'Modelis':'WV', 'rida':25000},{'Modelis':'Audi', 'rida':36000},{'Modelis':'Ford', 'rida':42000},{'Modelis':'Toyota', 'rida':31000},{'Modelis':'Nissan', 'rida':75000}]\n",
    "# a)\n",
    "for i in cl:\n",
    "    print(i['rida'])\n",
    "# b)\n",
    "minr = -1\n",
    "maxr = 0\n",
    "for i in cl:\n",
    "    rida = i['rida']\n",
    "    if rida < minr and minr != -1:\n",
    "        minr = rida\n",
    "    elif minr == -1:\n",
    "        minr = rida\n",
    "    if rida > maxr:\n",
    "        maxr = rida\n",
    "\n",
    "for i in cl:\n",
    "    if minr == i['rida']:\n",
    "        print('Minimalią ridą', minr, 'turėjo', i['Modelis'])\n",
    "    if maxr == i['rida']:\n",
    "        print('Maksimalią ridą', maxr, 'turėjo', i['Modelis'])"
   ]
  }
 ],
 "metadata": {
  "kernelspec": {
   "display_name": "Python 3.10.7 64-bit",
   "language": "python",
   "name": "python3"
  },
  "language_info": {
   "codemirror_mode": {
    "name": "ipython",
    "version": 3
   },
   "file_extension": ".py",
   "mimetype": "text/x-python",
   "name": "python",
   "nbconvert_exporter": "python",
   "pygments_lexer": "ipython3",
   "version": "3.10.7"
  },
  "orig_nbformat": 4,
  "vscode": {
   "interpreter": {
    "hash": "26de051ba29f2982a8de78e945f0abaf191376122a1563185a90213a26c5da77"
   }
  }
 },
 "nbformat": 4,
 "nbformat_minor": 2
}
