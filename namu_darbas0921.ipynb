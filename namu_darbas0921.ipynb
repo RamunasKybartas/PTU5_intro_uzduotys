{
 "cells": [
  {
   "cell_type": "code",
   "execution_count": null,
   "metadata": {},
   "outputs": [],
   "source": [
    "# 1. programa nuskaito tekstinį failą\n",
    "# 1. programa suskaičiuoja ir atspausdina kiek yra teksto eilučių\n",
    "# 1. programa suskaičiuoja ir atspausdina kiek yra žodžių kiekvienoje eilutėje\n",
    "# 1. programa suskaičiuoja ir atspausdina kiek yra didžiųjų raidžių kiekvienoje eilutėje\n",
    "# 1. programa atspausdina eilutę, kurioje yra daugiausia žodžių\n",
    "# 1. programa atspausdina eilutę, kurioje yra daugiausia didžiųjų raidžių\n",
    "# 1. BONUS: programa suskaičiuoja, kiek tekste yra sakinių (sakinio techninis apibrėžimas laisvas)"
   ]
  },
  {
   "cell_type": "code",
   "execution_count": 4,
   "metadata": {},
   "outputs": [],
   "source": [
    "tekstukas = \"\"\"Not him old music think his found enjoy merry. Listening acuteness dependent at or an. Apartments thoroughly unsatiable terminated sex how themselves. She are ten hours wrong walls stand early. Domestic perceive on an ladyship extended received do. Why jennings our whatever his learning gay perceive. Is against no he without subject. Bed connection unreserved preference partiality not unaffected. Years merit trees so think in hoped we as.\n",
    "\n",
    "Endeavor bachelor but add eat pleasure doubtful sociable. Age forming covered you entered the examine. Blessing scarcely confined her contempt wondered shy. Dashwoods contented sportsmen at up no convinced cordially affection. Am so continued resembled frankness disposing engrossed dashwoods. Earnest greater on no observe fortune norland. Hunted mrs ham wishes stairs. Continued he as so breakfast shameless. All men drew its post knew. Of talking of calling however civilly wishing resolve.\n",
    "\n",
    "New the her nor case that lady paid read. Invitation friendship travelling eat everything the out two. Shy you who scarcely expenses debating hastened resolved. Always polite moment on is warmth spirit it to hearts. Downs those still witty an balls so chief so. Moment an little remain no up lively no. Way brought may off our regular country towards adapted cheered.\n",
    "\n",
    "Resources exquisite set arranging moonlight sex him household had. Months had too ham cousin remove far spirit. She procuring the why performed continual improving. Civil songs so large shade in cause. Lady an mr here must neat sold. Children greatest ye extended delicate of. No elderly passage earnest as in removed winding or.\n",
    "\n",
    "In by an appetite no humoured returned informed. Possession so comparison inquietude he he conviction no decisively. Marianne jointure attended she hastened surprise but she. Ever lady son yet you very paid form away. He advantage of exquisite resolving if on tolerably. Become sister on in garden it barton waited on.\n",
    "\n",
    "Sussex result matter any end see. It speedily me addition weddings vicinity in pleasure. Happiness commanded an conveying breakfast in. Regard her say warmly elinor. Him these are visit front end for seven walls. Money eat scale now ask law learn. Side its they just any upon see last. He prepared no shutters perceive do greatest. Ye at unpleasant solicitude in companions interested.\n",
    "\n",
    "Of be talent me answer do relied. Mistress in on so laughing throwing endeavor occasion welcomed. Gravity sir brandon calling can. No years do widow house delay stand. Prospect six kindness use steepest new ask. High gone kind calm call as ever is. Introduced melancholy estimating motionless on up as do. Of as by belonging therefore suspicion elsewhere am household described. Domestic suitable bachelor for landlord fat.\n",
    "\n",
    "Enjoyed minutes related as at on on. Is fanny dried as often me. Goodness as reserved raptures to mistaken steepest oh screened he. Gravity he mr sixteen esteems. Mile home its new way with high told said. Finished no horrible blessing landlord dwelling dissuade if. Rent fond am he in on read. Anxious cordial demands settled entered in do to colonel.\n",
    "\n",
    "Inhabit hearing perhaps on ye do no. It maids decay as there he. Smallest on suitable disposed do although blessing he juvenile in. Society or if excited forbade. Here name off yet she long sold easy whom. Differed oh cheerful procured pleasure securing suitable in. Hold rich on an he oh fine. Chapter ability shyness article welcome be do on service.\n",
    "\n",
    "Up unpacked friendly ecstatic so possible humoured do. Ample end might folly quiet one set spoke her. We no am former valley assure. Four need spot ye said we find mile. Are commanded him convinced dashwoods did estimable forfeited. Shy celebrated met sentiments she reasonably but. Proposal its disposed eat advanced marriage sociable. Drawings led greatest add subjects endeavor gay remember. Principles one yet assistance you met impossible\"\"\""
   ]
  },
  {
   "cell_type": "code",
   "execution_count": 11,
   "metadata": {},
   "outputs": [
    {
     "name": "stdout",
     "output_type": "stream",
     "text": [
      "c:\\codeacademy\\intro_kursas\\random_uzduotys\n"
     ]
    }
   ],
   "source": [
    "import os\n",
    "print(os.getcwd())\n",
    "\n",
    "with open(\"c:\\\\codeacademy\\\\intro_kursas\\\\random_uzduotys\\\\tekstas.txt\", \"w\") as rasomas:\n",
    "    rasomas.write(tekstukas)\n"
   ]
  },
  {
   "cell_type": "code",
   "execution_count": 15,
   "metadata": {},
   "outputs": [
    {
     "name": "stdout",
     "output_type": "stream",
     "text": [
      "Not him old music think his found enjoy merry. Listening acuteness dependent at or an. Apartments thoroughly unsatiable terminated sex how themselves. She are ten hours wrong walls stand early. Domestic perceive on an ladyship extended received do. Why jennings our whatever his learning gay perceive. Is against no he without subject. Bed connection unreserved preference partiality not unaffected. Years merit trees so think in hoped we as.\n",
      "Endeavor bachelor but add eat pleasure doubtful sociable. Age forming covered you entered the examine. Blessing scarcely confined her contempt wondered shy. Dashwoods contented sportsmen at up no convinced cordially affection. Am so continued resembled frankness disposing engrossed dashwoods. Earnest greater on no observe fortune norland. Hunted mrs ham wishes stairs. Continued he as so breakfast shameless. All men drew its post knew. Of talking of calling however civilly wishing resolve.\n",
      "New the her nor case that lady paid read. Invitation friendship travelling eat everything the out two. Shy you who scarcely expenses debating hastened resolved. Always polite moment on is warmth spirit it to hearts. Downs those still witty an balls so chief so. Moment an little remain no up lively no. Way brought may off our regular country towards adapted cheered.\n",
      "Resources exquisite set arranging moonlight sex him household had. Months had too ham cousin remove far spirit. She procuring the why performed continual improving. Civil songs so large shade in cause. Lady an mr here must neat sold. Children greatest ye extended delicate of. No elderly passage earnest as in removed winding or.\n",
      "In by an appetite no humoured returned informed. Possession so comparison inquietude he he conviction no decisively. Marianne jointure attended she hastened surprise but she. Ever lady son yet you very paid form away. He advantage of exquisite resolving if on tolerably. Become sister on in garden it barton waited on.\n",
      "Sussex result matter any end see. It speedily me addition weddings vicinity in pleasure. Happiness commanded an conveying breakfast in. Regard her say warmly elinor. Him these are visit front end for seven walls. Money eat scale now ask law learn. Side its they just any upon see last. He prepared no shutters perceive do greatest. Ye at unpleasant solicitude in companions interested.\n",
      "Of be talent me answer do relied. Mistress in on so laughing throwing endeavor occasion welcomed. Gravity sir brandon calling can. No years do widow house delay stand. Prospect six kindness use steepest new ask. High gone kind calm call as ever is. Introduced melancholy estimating motionless on up as do. Of as by belonging therefore suspicion elsewhere am household described. Domestic suitable bachelor for landlord fat.\n",
      "Enjoyed minutes related as at on on. Is fanny dried as often me. Goodness as reserved raptures to mistaken steepest oh screened he. Gravity he mr sixteen esteems. Mile home its new way with high told said. Finished no horrible blessing landlord dwelling dissuade if. Rent fond am he in on read. Anxious cordial demands settled entered in do to colonel.\n",
      "Inhabit hearing perhaps on ye do no. It maids decay as there he. Smallest on suitable disposed do although blessing he juvenile in. Society or if excited forbade. Here name off yet she long sold easy whom. Differed oh cheerful procured pleasure securing suitable in. Hold rich on an he oh fine. Chapter ability shyness article welcome be do on service.\n",
      "Up unpacked friendly ecstatic so possible humoured do. Ample end might folly quiet one set spoke her. We no am former valley assure. Four need spot ye said we find mile. Are commanded him convinced dashwoods did estimable forfeited. Shy celebrated met sentiments she reasonably but. Proposal its disposed eat advanced marriage sociable. Drawings led greatest add subjects endeavor gay remember. Principles one yet assistance you met impossible\n"
     ]
    }
   ],
   "source": [
    "with open(\"c:\\\\codeacademy\\\\intro_kursas\\\\random_uzduotys\\\\tekstas.txt\", \"r\") as skaitomas:\n",
    "    skaitom = skaitomas.read()\n",
    "print(skaitom)"
   ]
  },
  {
   "cell_type": "code",
   "execution_count": 5,
   "metadata": {},
   "outputs": [
    {
     "name": "stdout",
     "output_type": "stream",
     "text": [
      "10\n",
      "10\n"
     ]
    }
   ],
   "source": [
    "with open(\"c:\\\\codeacademy\\\\intro_kursas\\\\random_uzduotys\\\\tekstas.txt\", \"r\") as skaitomas:\n",
    "    eilutes = skaitomas.readlines()\n",
    "    count = 0\n",
    "    for eilute in eilutes:\n",
    "        count += 1\n",
    "    print(count)\n",
    "    print(len(eilutes))\n",
    "\n"
   ]
  },
  {
   "cell_type": "code",
   "execution_count": 24,
   "metadata": {},
   "outputs": [
    {
     "name": "stdout",
     "output_type": "stream",
     "text": [
      "1 ---> 68\n",
      "2 ---> 71\n",
      "3 ---> 62\n",
      "4 ---> 53\n",
      "5 ---> 51\n",
      "6 ---> 63\n",
      "7 ---> 67\n",
      "8 ---> 61\n",
      "9 ---> 61\n",
      "10 ---> 68\n"
     ]
    }
   ],
   "source": [
    "with open(\"c:\\\\codeacademy\\\\intro_kursas\\\\random_uzduotys\\\\tekstas.txt\", \"r\") as skaitomas:\n",
    "    eilutes = skaitomas.readlines()\n",
    "    for indeksas, eilute in enumerate(eilutes):\n",
    "        print(indeksas+1,\"--->\", len(eilute.split()))"
   ]
  },
  {
   "cell_type": "code",
   "execution_count": 16,
   "metadata": {},
   "outputs": [
    {
     "name": "stdout",
     "output_type": "stream",
     "text": [
      "1 eilute turi didziuju raidziu: 9\n",
      "2 eilute turi didziuju raidziu: 10\n",
      "3 eilute turi didziuju raidziu: 7\n",
      "4 eilute turi didziuju raidziu: 7\n",
      "5 eilute turi didziuju raidziu: 6\n",
      "6 eilute turi didziuju raidziu: 9\n",
      "7 eilute turi didziuju raidziu: 9\n",
      "8 eilute turi didziuju raidziu: 8\n",
      "9 eilute turi didziuju raidziu: 8\n",
      "10 eilute turi didziuju raidziu: 9\n"
     ]
    }
   ],
   "source": [
    "with open(\"c:\\\\codeacademy\\\\intro_kursas\\\\random_uzduotys\\\\tekstas.txt\", \"r\") as skaitomas:\n",
    "    eilutes = skaitomas.readlines()\n",
    "    for indeksas, eilute in enumerate(eilutes):\n",
    "        did = sum(1 for raide in eilute if raide.isupper())\n",
    "        print(indeksas+1,\"eilute turi didziuju raidziu:\", did)\n",
    "\n",
    "\n",
    "\n"
   ]
  },
  {
   "cell_type": "code",
   "execution_count": 9,
   "metadata": {},
   "outputs": [
    {
     "name": "stdout",
     "output_type": "stream",
     "text": [
      "Endeavor bachelor but add eat pleasure doubtful sociable. Age forming covered you entered the examine. Blessing scarcely confined her contempt wondered shy. Dashwoods contented sportsmen at up no convinced cordially affection. Am so continued resembled frankness disposing engrossed dashwoods. Earnest greater on no observe fortune norland. Hunted mrs ham wishes stairs. Continued he as so breakfast shameless. All men drew its post knew. Of talking of calling however civilly wishing resolve.\n",
      "\n"
     ]
    }
   ],
   "source": [
    "\n",
    "with open(\"c:\\\\codeacademy\\\\intro_kursas\\\\random_uzduotys\\\\tekstas.txt\", \"r\") as skaitomas:\n",
    "    eilutes = skaitomas.readlines()\n",
    "    daug_zodziu = eilutes[0]\n",
    "    for eilute in eilutes:\n",
    "        if len(eilute.split()) > len(daug_zodziu.split()):\n",
    "            daug_zodziu = eilute\n",
    "\n",
    "print(daug_zodziu)\n",
    "# arba\n"
   ]
  },
  {
   "cell_type": "code",
   "execution_count": 12,
   "metadata": {},
   "outputs": [
    {
     "name": "stdout",
     "output_type": "stream",
     "text": [
      "Not him old music think his found enjoy merry. Listening acuteness dependent at or an. Apartments thoroughly unsatiable terminated sex how themselves. She are ten hours wrong walls stand early. Domestic perceive on an ladyship extended received do. Why jennings our whatever his learning gay perceive. Is against no he without subject. Bed connection unreserved preference partiality not unaffected. Years merit trees so think in hoped we as.\n",
      "\n"
     ]
    }
   ],
   "source": [
    "with open(\"c:\\\\codeacademy\\\\intro_kursas\\\\random_uzduotys\\\\tekstas.txt\", \"r\") as skaitomas:\n",
    "    eilute = skaitomas.readline()\n",
    "    upper_in_lines = []\n",
    "    \n",
    "    upper_count = 0\n",
    "    for raide in eilute:\n",
    "        if raide.isupper():\n",
    "            upper_count += 1\n",
    "    upper_in_lines.append(upper_count)\n",
    "\n",
    "print(eilutes[upper_in_lines.index(max(upper_in_lines))])\n",
    "    \n",
    "\n",
    "    # for raide in eilute:\n",
    "    #     if raide.isupper():\n",
    "    #         count +=1\n",
    "    #         if sum(count) > sum()\n",
    "\n",
    "\n",
    "\n",
    "    #     did = sum(1 for raide in eilute if raide.isupper())\n",
    "        \n",
    "   "
   ]
  }
 ],
 "metadata": {
  "kernelspec": {
   "display_name": "Python 3.10.6 64-bit",
   "language": "python",
   "name": "python3"
  },
  "language_info": {
   "codemirror_mode": {
    "name": "ipython",
    "version": 3
   },
   "file_extension": ".py",
   "mimetype": "text/x-python",
   "name": "python",
   "nbconvert_exporter": "python",
   "pygments_lexer": "ipython3",
   "version": "3.10.6"
  },
  "orig_nbformat": 4,
  "vscode": {
   "interpreter": {
    "hash": "6826393f5d16f80f0a5e6d28ad25b030cb73de8ebf2f9070dbfe40cc4ac82591"
   }
  }
 },
 "nbformat": 4,
 "nbformat_minor": 2
}
